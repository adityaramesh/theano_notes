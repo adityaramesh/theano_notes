{
 "cells": [
  {
   "cell_type": "code",
   "execution_count": null,
   "metadata": {
    "collapsed": false
   },
   "outputs": [],
   "source": [
    "# %load ../source/convert_mnist.py\n",
    "#! /usr/bin/python\n",
    "\"\"\"\n",
    "Converts MNIST data from original format to HDF5.\n",
    "\"\"\"\n",
    "\n",
    "import os.path as path\n",
    "\n",
    "# To read the original MNIST data.\n",
    "import gzip\n",
    "import struct\n",
    "import numpy as np\n",
    "\n",
    "# To convert to HDF5.\n",
    "import h5py\n",
    "\n",
    "def read_mnist(image_fn, label_fn):\n",
    "    file_names = [image_fn, label_fn]\n",
    "    image_file, label_file = [gzip.open(fn, 'rb') for fn in file_names]\n",
    "\n",
    "    def read_int(f):\n",
    "        return struct.unpack('>I', f.read(4))[0]\n",
    "    \n",
    "    # Verify the contents of the headers.\n",
    "    files            = [image_file, label_file]\n",
    "    magic_1, magic_2 = [read_int(f) for f in files]\n",
    "    count, count_2   = [read_int(f) for f in files]\n",
    "    rows, cols       = [read_int(image_file) for _ in range(2)]\n",
    "\n",
    "    assert magic_1 == 0x00000803\n",
    "    assert magic_2 == 0x00000801\n",
    "    assert count == count_2\n",
    "    assert rows == 28 and cols == 28\n",
    "\n",
    "    # Parse the data.\n",
    "    labels = np.fromstring(label_file.read(count), dtype=np.uint8)\n",
    "    images = np.fromstring(image_file.read(count * rows * cols), dtype=np.uint8)\n",
    "    images.resize(count, rows, cols)\n",
    "    return images, labels\n",
    "\n",
    "def main():\n",
    "    mnist_dir = \"data/mnist\"\n",
    "    file_names = [\"t10k-images-idx3-ubyte.gz\", \"t10k-labels-idx1-ubyte.gz\",\n",
    "        \"train-images-idx3-ubyte.gz\", \"train-labels-idx1-ubyte.gz\"]\n",
    "    paths = [path.join(mnist_dir, fn) for fn in file_names]\n",
    "\n",
    "    print(\"Parsing test images.\")\n",
    "    test_images, test_labels = read_mnist(paths[0], paths[1])\n",
    "    print(\"Parsing train images.\")\n",
    "    train_images, train_labels = read_mnist(paths[2], paths[3])\n",
    "\n",
    "    print(\"Creating HDF5 file.\")\n",
    "    output_file = h5py.File(path.join(mnist_dir, \"mnist.hdf5\"), 'w')\n",
    "    train_group = output_file.create_group(\"/train\")\n",
    "    test_group = output_file.create_group(\"/test\")\n",
    "    train_group.create_dataset(\"inputs\", data=train_images)\n",
    "    train_group.create_dataset(\"targets\", data=train_labels)\n",
    "    test_group.create_dataset(\"inputs\", data=test_images)\n",
    "    test_group.create_dataset(\"targets\", data=test_labels)\n",
    "\n",
    "if __name__ == \"__main__\":\n",
    "    main()\n"
   ]
  },
  {
   "cell_type": "code",
   "execution_count": 34,
   "metadata": {
    "collapsed": false
   },
   "outputs": [
    {
     "name": "stdout",
     "output_type": "stream",
     "text": [
      "5\n"
     ]
    },
    {
     "data": {
      "image/png": "[encoded data removed]",
      "text/plain": [
       "<PIL.Image.Image image mode=L size=28x28 at 0x7F686DF78550>"
      ]
     },
     "metadata": {},
     "output_type": "display_data"
    },
    {
     "name": "stdout",
     "output_type": "stream",
     "text": [
      "0\n"
     ]
    },
    {
     "data": {
      "image/png": "[encoded data removed]",
      "text/plain": [
       "<PIL.Image.Image image mode=L size=28x28 at 0x7F686DF78588>"
      ]
     },
     "metadata": {},
     "output_type": "display_data"
    },
    {
     "name": "stdout",
     "output_type": "stream",
     "text": [
      "4\n"
     ]
    },
    {
     "data": {
      "image/png": "[encoded data removed]",
      "text/plain": [
       "<PIL.Image.Image image mode=L size=28x28 at 0x7F686DF78470>"
      ]
     },
     "metadata": {},
     "output_type": "display_data"
    },
    {
     "name": "stdout",
     "output_type": "stream",
     "text": [
      "1\n"
     ]
    },
    {
     "data": {
      "image/png": "[encoded data removed]",
      "text/plain": [
       "<PIL.Image.Image image mode=L size=28x28 at 0x7F686DF78438>"
      ]
     },
     "metadata": {},
     "output_type": "display_data"
    },
    {
     "name": "stdout",
     "output_type": "stream",
     "text": [
      "9\n"
     ]
    },
    {
     "data": {
      "image/png": "[encoded data removed]",
      "text/plain": [
       "<PIL.Image.Image image mode=L size=28x28 at 0x7F686DF78518>"
      ]
     },
     "metadata": {},
     "output_type": "display_data"
    }
   ],
   "source": [
    "# Visually verify that we are parsing MNIST correctly.\n",
    "\n",
    "import os.path as path\n",
    "from PIL import Image\n",
    "\n",
    "mnist_dir = \"../data/mnist\"\n",
    "file_names = [\"train-images-idx3-ubyte.gz\", \"train-labels-idx1-ubyte.gz\"]\n",
    "image_fn, label_fn = [path.join(mnist_dir, fn) for fn in file_names]\n",
    "\n",
    "images, labels = read_mnist(image_fn, label_fn)\n",
    "\n",
    "for i in range(5):\n",
    "    print(labels[i])\n",
    "    display(Image.fromarray(images[i], 'L'))"
   ]
  },
  {
   "cell_type": "code",
   "execution_count": null,
   "metadata": {
    "collapsed": true
   },
   "outputs": [],
   "source": []
  }
 ],
 "metadata": {
  "kernelspec": {
   "display_name": "Python 3",
   "language": "python",
   "name": "python3"
  },
  "language_info": {
   "codemirror_mode": {
    "name": "ipython",
    "version": 3
   },
   "file_extension": ".py",
   "mimetype": "text/x-python",
   "name": "python",
   "nbconvert_exporter": "python",
   "pygments_lexer": "ipython3",
   "version": "3.4.3"
  }
 },
 "nbformat": 4,
 "nbformat_minor": 0
}
