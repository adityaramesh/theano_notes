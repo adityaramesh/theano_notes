{
 "cells": [
  {
   "cell_type": "code",
   "execution_count": 2,
   "metadata": {
    "collapsed": false
   },
   "outputs": [
    {
     "data": {
      "text/plain": [
       "'(x + y)'"
      ]
     },
     "execution_count": 2,
     "metadata": {},
     "output_type": "execute_result"
    }
   ],
   "source": [
    "import theano.tensor as T\n",
    "from theano import function\n",
    "from theano import pp\n",
    "\n",
    "# Note: the default data type without the 'd' prefix is float.\n",
    "x = T.dscalar('x')\n",
    "y = T.dscalar('y')\n",
    "\n",
    "# Alternatives:\n",
    "# 1. x, y = T.dscalars(2)\n",
    "# 2. x, y = T.dscalars('x', 'y')\n",
    "#\n",
    "# Note that the output of `pp` will be ugly in case (1).\n",
    "\n",
    "z = x + y\n",
    "f = function([x, y], z)\n",
    "\n",
    "pp(z)"
   ]
  },
  {
   "cell_type": "code",
   "execution_count": 3,
   "metadata": {
    "collapsed": false
   },
   "outputs": [
    {
     "name": "stdout",
     "output_type": "stream",
     "text": [
      "{'auto_name': 'auto_3',\n",
      " 'index': None,\n",
      " 'name': 'x',\n",
      " 'owner': None,\n",
      " 'tag': scratchpad{'trace': [('<ipython-input-2-cfa939c54768>', 6, '<module>', \"x = T.dscalar('x')\")]},\n",
      " 'type': TensorType(float64, scalar)}\n",
      "{'broadcastable': (), 'name': None, 'numpy_dtype': dtype('float64'), 'sparse_grad': False, 'dtype': 'float64'}\n",
      "float64\n"
     ]
    }
   ],
   "source": [
    "# Properties of Theano classes.\n",
    "\n",
    "from pprint import pprint\n",
    "\n",
    "pprint(vars(x))\n",
    "print(vars(x.type))\n",
    "\n",
    "# Use this to get the data type of a variable.\n",
    "print(x.type.dtype)"
   ]
  },
  {
   "cell_type": "code",
   "execution_count": 4,
   "metadata": {
    "collapsed": false
   },
   "outputs": [
    {
     "name": "stdout",
     "output_type": "stream",
     "text": [
      "(x + y)\n"
     ]
    },
    {
     "data": {
      "text/plain": [
       "array([[ 2.,  2.],\n",
       "       [ 3.,  5.]])"
      ]
     },
     "execution_count": 4,
     "metadata": {},
     "output_type": "execute_result"
    }
   ],
   "source": [
    "# Matrix computations.\n",
    "\n",
    "x, y = T.dmatrices('x', 'y')\n",
    "z = x + y\n",
    "f = function([x, y], z)\n",
    "\n",
    "print(pp(z))\n",
    "f([[1, 2], [3, 4]], [[1, 0], [0, 1]])"
   ]
  },
  {
   "cell_type": "code",
   "execution_count": 5,
   "metadata": {
    "collapsed": false
   },
   "outputs": [
    {
     "name": "stdout",
     "output_type": "stream",
     "text": [
      "((a + b) ** TensorConstant{2})\n"
     ]
    },
    {
     "data": {
      "text/plain": [
       "array([ 25.,  49.,  81.])"
      ]
     },
     "execution_count": 5,
     "metadata": {},
     "output_type": "execute_result"
    }
   ],
   "source": [
    "# A somewhat less trivial example.\n",
    "\n",
    "a, b = T.vectors('a', 'b')\n",
    "out = (a + b) ** 2\n",
    "f = function([a, b], out)\n",
    "\n",
    "print(pp(out))\n",
    "f([1, 2, 3], [4, 5, 6])"
   ]
  },
  {
   "cell_type": "code",
   "execution_count": 6,
   "metadata": {
    "collapsed": false
   },
   "outputs": [
    {
     "name": "stdout",
     "output_type": "stream",
     "text": [
      "<IPython.core.display.SVG object>\n"
     ]
    },
    {
     "data": {
      "image/svg+xml": [
       "<svg height=\"305pt\" viewBox=\"0.00 0.00 727.00 305.00\" width=\"727pt\" xmlns=\"http://www.w3.org/2000/svg\" xmlns:xlink=\"http://www.w3.org/1999/xlink\">\n",
       "<g class=\"graph\" id=\"graph0\" transform=\"scale(1 1) rotate(0) translate(4 301)\">\n",
       "<title>G</title>\n",
       "<polygon fill=\"white\" points=\"-4,4 -4,-301 723,-301 723,4 -4,4\" stroke=\"none\"/>\n",
       "<!-- DimShuffle{x} -->\n",
       "<g class=\"node\" id=\"node1\"><title>DimShuffle{x}</title>\n",
       "<ellipse cx=\"571\" cy=\"-192\" fill=\"none\" rx=\"68.4888\" ry=\"18\" stroke=\"black\"/>\n",
       "<text font-family=\"Times,serif\" font-size=\"14.00\" text-anchor=\"middle\" x=\"571\" y=\"-188.3\">DimShuffle{x}</text>\n",
       "</g>\n",
       "<!-- Elemwise{pow,no_inplace} -->\n",
       "<g class=\"node\" id=\"node6\"><title>Elemwise{pow,no_inplace}</title>\n",
       "<ellipse cx=\"466\" cy=\"-105\" fill=\"#ffaabb\" rx=\"115.08\" ry=\"18\" stroke=\"black\"/>\n",
       "<text font-family=\"Times,serif\" font-size=\"14.00\" text-anchor=\"middle\" x=\"466\" y=\"-101.3\">Elemwise{pow,no_inplace}</text>\n",
       "</g>\n",
       "<!-- DimShuffle{x}&#45;&gt;Elemwise{pow,no_inplace} -->\n",
       "<g class=\"edge\" id=\"edge5\"><title>DimShuffle{x}-&gt;Elemwise{pow,no_inplace}</title>\n",
       "<path d=\"M564.67,-173.905C560.025,-163.3 552.814,-150.023 543,-141 536.785,-135.285 529.477,-130.372 521.88,-126.188\" fill=\"none\" stroke=\"black\"/>\n",
       "<polygon fill=\"black\" points=\"523.379,-123.024 512.879,-121.608 520.204,-129.262 523.379,-123.024\" stroke=\"black\"/>\n",
       "<text font-family=\"Times,serif\" font-size=\"14.00\" text-anchor=\"middle\" x=\"634\" y=\"-144.8\">1 TensorType(int8, (True,))</text>\n",
       "</g>\n",
       "<!-- val=2 TensorType(int8, scalar) -->\n",
       "<g class=\"node\" id=\"node2\"><title>val=2 TensorType(int8, scalar)</title>\n",
       "<polygon fill=\"green\" points=\"682,-297 490,-297 490,-261 682,-261 682,-297\" stroke=\"black\"/>\n",
       "<text font-family=\"Times,serif\" font-size=\"14.00\" text-anchor=\"middle\" x=\"586\" y=\"-275.3\">val=2 TensorType(int8, scalar)</text>\n",
       "</g>\n",
       "<!-- val=2 TensorType(int8, scalar)&#45;&gt;DimShuffle{x} -->\n",
       "<g class=\"edge\" id=\"edge1\"><title>val=2 TensorType(int8, scalar)-&gt;DimShuffle{x}</title>\n",
       "<path d=\"M582.965,-260.799C580.911,-249.163 578.156,-233.548 575.806,-220.237\" fill=\"none\" stroke=\"black\"/>\n",
       "<polygon fill=\"black\" points=\"579.216,-219.415 574.031,-210.175 572.322,-220.632 579.216,-219.415\" stroke=\"black\"/>\n",
       "<text font-family=\"Times,serif\" font-size=\"14.00\" text-anchor=\"middle\" x=\"649.5\" y=\"-231.8\">TensorType(int8, scalar)</text>\n",
       "</g>\n",
       "<!-- Elemwise{add,no_inplace} -->\n",
       "<g class=\"node\" id=\"node3\"><title>Elemwise{add,no_inplace}</title>\n",
       "<ellipse cx=\"358\" cy=\"-192\" fill=\"#ffaabb\" rx=\"112.38\" ry=\"18\" stroke=\"black\"/>\n",
       "<text font-family=\"Times,serif\" font-size=\"14.00\" text-anchor=\"middle\" x=\"358\" y=\"-188.3\">Elemwise{add,no_inplace}</text>\n",
       "</g>\n",
       "<!-- Elemwise{add,no_inplace}&#45;&gt;Elemwise{pow,no_inplace} -->\n",
       "<g class=\"edge\" id=\"edge4\"><title>Elemwise{add,no_inplace}-&gt;Elemwise{pow,no_inplace}</title>\n",
       "<path d=\"M356.968,-173.892C357.238,-163.282 359.345,-150.005 367,-141 372.94,-134.013 380.368,-128.42 388.47,-123.944\" fill=\"none\" stroke=\"black\"/>\n",
       "<polygon fill=\"black\" points=\"390.057,-127.064 397.487,-119.511 386.969,-120.782 390.057,-127.064\" stroke=\"black\"/>\n",
       "<text font-family=\"Times,serif\" font-size=\"14.00\" text-anchor=\"middle\" x=\"453\" y=\"-144.8\">0 TensorType(float64, vector)</text>\n",
       "</g>\n",
       "<!-- name=a TensorType(float64, vector) -->\n",
       "<g class=\"node\" id=\"node4\"><title>name=a TensorType(float64, vector)</title>\n",
       "<polygon fill=\"green\" points=\"226,-297 0,-297 0,-261 226,-261 226,-297\" stroke=\"black\"/>\n",
       "<text font-family=\"Times,serif\" font-size=\"14.00\" text-anchor=\"middle\" x=\"113\" y=\"-275.3\">name=a TensorType(float64, vector)</text>\n",
       "</g>\n",
       "<!-- name=a TensorType(float64, vector)&#45;&gt;Elemwise{add,no_inplace} -->\n",
       "<g class=\"edge\" id=\"edge2\"><title>name=a TensorType(float64, vector)-&gt;Elemwise{add,no_inplace}</title>\n",
       "<path d=\"M131.827,-260.89C144.971,-249.859 163.426,-236.11 182,-228 205.945,-217.545 233.09,-210.184 258.769,-205.011\" fill=\"none\" stroke=\"black\"/>\n",
       "<polygon fill=\"black\" points=\"259.746,-208.388 268.906,-203.065 258.426,-201.513 259.746,-208.388\" stroke=\"black\"/>\n",
       "<text font-family=\"Times,serif\" font-size=\"14.00\" text-anchor=\"middle\" x=\"268\" y=\"-231.8\">0 TensorType(float64, vector)</text>\n",
       "</g>\n",
       "<!-- name=b TensorType(float64, vector) -->\n",
       "<g class=\"node\" id=\"node5\"><title>name=b TensorType(float64, vector)</title>\n",
       "<polygon fill=\"green\" points=\"471.5,-297 244.5,-297 244.5,-261 471.5,-261 471.5,-297\" stroke=\"black\"/>\n",
       "<text font-family=\"Times,serif\" font-size=\"14.00\" text-anchor=\"middle\" x=\"358\" y=\"-275.3\">name=b TensorType(float64, vector)</text>\n",
       "</g>\n",
       "<!-- name=b TensorType(float64, vector)&#45;&gt;Elemwise{add,no_inplace} -->\n",
       "<g class=\"edge\" id=\"edge3\"><title>name=b TensorType(float64, vector)-&gt;Elemwise{add,no_inplace}</title>\n",
       "<path d=\"M358,-260.799C358,-249.163 358,-233.548 358,-220.237\" fill=\"none\" stroke=\"black\"/>\n",
       "<polygon fill=\"black\" points=\"361.5,-220.175 358,-210.175 354.5,-220.175 361.5,-220.175\" stroke=\"black\"/>\n",
       "<text font-family=\"Times,serif\" font-size=\"14.00\" text-anchor=\"middle\" x=\"444\" y=\"-231.8\">1 TensorType(float64, vector)</text>\n",
       "</g>\n",
       "<!-- TensorType(float64, vector) id=5 -->\n",
       "<g class=\"node\" id=\"node7\"><title>TensorType(float64, vector) id=5</title>\n",
       "<polygon fill=\"blue\" points=\"570,-36 362,-36 362,-0 570,-0 570,-36\" stroke=\"black\"/>\n",
       "<text font-family=\"Times,serif\" font-size=\"14.00\" text-anchor=\"middle\" x=\"466\" y=\"-14.3\">TensorType(float64, vector) id=5</text>\n",
       "</g>\n",
       "<!-- Elemwise{pow,no_inplace}&#45;&gt;TensorType(float64, vector) id=5 -->\n",
       "<g class=\"edge\" id=\"edge6\"><title>Elemwise{pow,no_inplace}-&gt;TensorType(float64, vector) id=5</title>\n",
       "<path d=\"M466,-86.799C466,-75.1626 466,-59.5479 466,-46.2368\" fill=\"none\" stroke=\"black\"/>\n",
       "<polygon fill=\"black\" points=\"469.5,-46.1754 466,-36.1754 462.5,-46.1755 469.5,-46.1754\" stroke=\"black\"/>\n",
       "<text font-family=\"Times,serif\" font-size=\"14.00\" text-anchor=\"middle\" x=\"546.5\" y=\"-57.8\">TensorType(float64, vector)</text>\n",
       "</g>\n",
       "</g>\n",
       "</svg>"
      ],
      "text/plain": [
       "<IPython.core.display.SVG object>"
      ]
     },
     "metadata": {},
     "output_type": "display_data"
    },
    {
     "data": {
      "image/svg+xml": [
       "<svg height=\"218pt\" viewBox=\"0.00 0.00 527.00 218.00\" width=\"527pt\" xmlns=\"http://www.w3.org/2000/svg\" xmlns:xlink=\"http://www.w3.org/1999/xlink\">\n",
       "<g class=\"graph\" id=\"graph0\" transform=\"scale(1 1) rotate(0) translate(4 214)\">\n",
       "<title>G</title>\n",
       "<polygon fill=\"white\" points=\"-4,4 -4,-214 523,-214 523,4 -4,4\" stroke=\"none\"/>\n",
       "<!-- Elemwise{Composite{sqr((i0 + i1))}} -->\n",
       "<g class=\"node\" id=\"node1\"><title>Elemwise{Composite{sqr((i0 + i1))}}</title>\n",
       "<ellipse cx=\"235\" cy=\"-105\" fill=\"#ffaabb\" rx=\"152.973\" ry=\"18\" stroke=\"black\"/>\n",
       "<text font-family=\"Times,serif\" font-size=\"14.00\" text-anchor=\"middle\" x=\"235\" y=\"-101.3\">Elemwise{Composite{sqr((i0 + i1))}}</text>\n",
       "</g>\n",
       "<!-- TensorType(float64, vector) -->\n",
       "<g class=\"node\" id=\"node4\"><title>TensorType(float64, vector)</title>\n",
       "<polygon fill=\"blue\" points=\"323.5,-36 146.5,-36 146.5,-0 323.5,-0 323.5,-36\" stroke=\"black\"/>\n",
       "<text font-family=\"Times,serif\" font-size=\"14.00\" text-anchor=\"middle\" x=\"235\" y=\"-14.3\">TensorType(float64, vector)</text>\n",
       "</g>\n",
       "<!-- Elemwise{Composite{sqr((i0 + i1))}}&#45;&gt;TensorType(float64, vector) -->\n",
       "<g class=\"edge\" id=\"edge3\"><title>Elemwise{Composite{sqr((i0 + i1))}}-&gt;TensorType(float64, vector)</title>\n",
       "<path d=\"M235,-86.799C235,-75.1626 235,-59.5479 235,-46.2368\" fill=\"none\" stroke=\"black\"/>\n",
       "<polygon fill=\"black\" points=\"238.5,-46.1754 235,-36.1754 231.5,-46.1755 238.5,-46.1754\" stroke=\"black\"/>\n",
       "<text font-family=\"Times,serif\" font-size=\"14.00\" text-anchor=\"middle\" x=\"315.5\" y=\"-57.8\">TensorType(float64, vector)</text>\n",
       "</g>\n",
       "<!-- name=a TensorType(float64, vector) -->\n",
       "<g class=\"node\" id=\"node2\"><title>name=a TensorType(float64, vector)</title>\n",
       "<polygon fill=\"green\" points=\"226,-210 0,-210 0,-174 226,-174 226,-210\" stroke=\"black\"/>\n",
       "<text font-family=\"Times,serif\" font-size=\"14.00\" text-anchor=\"middle\" x=\"113\" y=\"-188.3\">name=a TensorType(float64, vector)</text>\n",
       "</g>\n",
       "<!-- name=a TensorType(float64, vector)&#45;&gt;Elemwise{Composite{sqr((i0 + i1))}} -->\n",
       "<g class=\"edge\" id=\"edge1\"><title>name=a TensorType(float64, vector)-&gt;Elemwise{Composite{sqr((i0 + i1))}}</title>\n",
       "<path d=\"M127.907,-173.835C137.506,-163.464 150.648,-150.467 164,-141 171.01,-136.03 178.832,-131.399 186.651,-127.239\" fill=\"none\" stroke=\"black\"/>\n",
       "<polygon fill=\"black\" points=\"188.463,-130.244 195.778,-122.579 185.281,-124.009 188.463,-130.244\" stroke=\"black\"/>\n",
       "<text font-family=\"Times,serif\" font-size=\"14.00\" text-anchor=\"middle\" x=\"250\" y=\"-144.8\">0 TensorType(float64, vector)</text>\n",
       "</g>\n",
       "<!-- name=b TensorType(float64, vector) -->\n",
       "<g class=\"node\" id=\"node3\"><title>name=b TensorType(float64, vector)</title>\n",
       "<polygon fill=\"green\" points=\"471.5,-210 244.5,-210 244.5,-174 471.5,-174 471.5,-210\" stroke=\"black\"/>\n",
       "<text font-family=\"Times,serif\" font-size=\"14.00\" text-anchor=\"middle\" x=\"358\" y=\"-188.3\">name=b TensorType(float64, vector)</text>\n",
       "</g>\n",
       "<!-- name=b TensorType(float64, vector)&#45;&gt;Elemwise{Composite{sqr((i0 + i1))}} -->\n",
       "<g class=\"edge\" id=\"edge2\"><title>name=b TensorType(float64, vector)-&gt;Elemwise{Composite{sqr((i0 + i1))}}</title>\n",
       "<path d=\"M354.138,-173.626C350.932,-162.911 345.342,-149.615 336,-141 329.237,-134.764 321.307,-129.63 312.914,-125.406\" fill=\"none\" stroke=\"black\"/>\n",
       "<polygon fill=\"black\" points=\"314.209,-122.15 303.659,-121.171 311.296,-128.515 314.209,-122.15\" stroke=\"black\"/>\n",
       "<text font-family=\"Times,serif\" font-size=\"14.00\" text-anchor=\"middle\" x=\"433\" y=\"-144.8\">1 TensorType(float64, vector)</text>\n",
       "</g>\n",
       "</g>\n",
       "</svg>"
      ],
      "text/plain": [
       "<IPython.core.display.SVG object>"
      ]
     },
     "metadata": {},
     "output_type": "display_data"
    }
   ],
   "source": [
    "# To get pydot to work for Python 3.4, I used\n",
    "# sudo pip install git+https://github.com/nlhepler/pydot\n",
    "\n",
    "from theano.printing import pydotprint \n",
    "from IPython.display import display, Image, SVG\n",
    "\n",
    "# Display as SVG.\n",
    "\n",
    "# The unoptimized graph.\n",
    "img = SVG(pydotprint(out, return_image=True, format='svg'))\n",
    "print(img)\n",
    "display(SVG(pydotprint(out, return_image=True, format='svg')))\n",
    "# The optimized graph.\n",
    "display(SVG(pydotprint(f, return_image=True, format='svg')))\n",
    "\n",
    "# Display as PNG.\n",
    "# display(Image(pydotprint(out, return_image=True, format='png'), retina=True))"
   ]
  },
  {
   "cell_type": "code",
   "execution_count": null,
   "metadata": {
    "collapsed": true
   },
   "outputs": [],
   "source": []
  }
 ],
 "metadata": {
  "kernelspec": {
   "display_name": "Python 3",
   "language": "python",
   "name": "python3"
  },
  "language_info": {
   "codemirror_mode": {
    "name": "ipython",
    "version": 3
   },
   "file_extension": ".py",
   "mimetype": "text/x-python",
   "name": "python",
   "nbconvert_exporter": "python",
   "pygments_lexer": "ipython3",
   "version": "3.4.3"
  }
 },
 "nbformat": 4,
 "nbformat_minor": 0
}
